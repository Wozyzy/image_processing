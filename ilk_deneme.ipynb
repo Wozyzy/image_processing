{
 "cells": [
  {
   "cell_type": "code",
   "execution_count": null,
   "id": "1e810061",
   "metadata": {},
   "outputs": [],
   "source": []
  },
  {
   "cell_type": "code",
   "execution_count": 12,
   "id": "5164ecc7",
   "metadata": {},
   "outputs": [],
   "source": [
    "import torch\n",
    "from torch import nn\n",
    "from torch.utils.data import DataLoader\n",
    "from torchvision import datasets\n",
    "from torchvision.transforms import ToTensor"
   ]
  },
  {
   "cell_type": "markdown",
   "id": "f807eff7",
   "metadata": {},
   "source": []
  },
  {
   "cell_type": "code",
   "execution_count": 13,
   "id": "c9f4f565",
   "metadata": {},
   "outputs": [],
   "source": [
    "# Download training data from open datasets.\n",
    "training_data = datasets.FashionMNIST(\n",
    "    root=\"data\",\n",
    "    train=True,\n",
    "    download=True,\n",
    "    transform=ToTensor(),\n",
    ")\n",
    "\n",
    "# Download test data from open datasets.\n",
    "test_data = datasets.FashionMNIST(\n",
    "    root=\"data\",\n",
    "    train=False,\n",
    "    download=True,\n",
    "    transform=ToTensor(),\n",
    ")"
   ]
  },
  {
   "cell_type": "code",
   "execution_count": 14,
   "id": "dc3233dd",
   "metadata": {},
   "outputs": [
    {
     "name": "stdout",
     "output_type": "stream",
     "text": [
      "Shape of X [N, C, H, W]: torch.Size([64, 1, 28, 28])\n",
      "Shape of y: torch.Size([64]) torch.int64\n"
     ]
    }
   ],
   "source": [
    "batch_size = 64\n",
    "\n",
    "# Create data loaders.\n",
    "train_dataloader = DataLoader(training_data, batch_size=batch_size)\n",
    "test_dataloader = DataLoader(test_data, batch_size=batch_size)\n",
    "\n",
    "for X, y in test_dataloader:\n",
    "    print(f\"Shape of X [N, C, H, W]: {X.shape}\")\n",
    "    print(f\"Shape of y: {y.shape} {y.dtype}\")\n",
    "    break\n"
   ]
  },
  {
   "cell_type": "markdown",
   "id": "f9204319",
   "metadata": {},
   "source": [
    "Creating Models\n"
   ]
  },
  {
   "cell_type": "code",
   "execution_count": 15,
   "id": "9e4a7913",
   "metadata": {},
   "outputs": [
    {
     "name": "stdout",
     "output_type": "stream",
     "text": [
      "Using mps device\n"
     ]
    },
    {
     "ename": "AttributeError",
     "evalue": "module 'torch.nn' has no attribute 'tanh'",
     "output_type": "error",
     "traceback": [
      "\u001b[31m---------------------------------------------------------------------------\u001b[39m",
      "\u001b[31mAttributeError\u001b[39m                            Traceback (most recent call last)",
      "\u001b[36mCell\u001b[39m\u001b[36m \u001b[39m\u001b[32mIn[15]\u001b[39m\u001b[32m, line 22\u001b[39m\n\u001b[32m     19\u001b[39m         logits = \u001b[38;5;28mself\u001b[39m.linear_relu_stack(x)\n\u001b[32m     20\u001b[39m         \u001b[38;5;28;01mreturn\u001b[39;00m logits\n\u001b[32m---> \u001b[39m\u001b[32m22\u001b[39m model = \u001b[43mNeuralNetwork\u001b[49m\u001b[43m(\u001b[49m\u001b[43m)\u001b[49m.to(device)\n\u001b[32m     23\u001b[39m \u001b[38;5;28mprint\u001b[39m(model)\n",
      "\u001b[36mCell\u001b[39m\u001b[36m \u001b[39m\u001b[32mIn[15]\u001b[39m\u001b[32m, line 13\u001b[39m, in \u001b[36mNeuralNetwork.__init__\u001b[39m\u001b[34m(self)\u001b[39m\n\u001b[32m      7\u001b[39m \u001b[38;5;28msuper\u001b[39m().\u001b[34m__init__\u001b[39m()\n\u001b[32m      8\u001b[39m \u001b[38;5;28mself\u001b[39m.flatten = nn.Flatten()\n\u001b[32m      9\u001b[39m \u001b[38;5;28mself\u001b[39m.linear_relu_stack = nn.Sequential(\n\u001b[32m     10\u001b[39m     nn.Linear(\u001b[32m28\u001b[39m*\u001b[32m28\u001b[39m, \u001b[32m512\u001b[39m),\n\u001b[32m     11\u001b[39m     nn.ReLU(),\n\u001b[32m     12\u001b[39m     nn.Linear(\u001b[32m512\u001b[39m, \u001b[32m512\u001b[39m),\n\u001b[32m---> \u001b[39m\u001b[32m13\u001b[39m     \u001b[43mnn\u001b[49m\u001b[43m.\u001b[49m\u001b[43mtanh\u001b[49m(),\n\u001b[32m     14\u001b[39m     nn.Linear(\u001b[32m512\u001b[39m, \u001b[32m10\u001b[39m) \u001b[38;5;66;03m# 10 tane sinif oldugu icin 10 yazildi neronlarin en son ulasacagi sayi\u001b[39;00m\n\u001b[32m     15\u001b[39m )\n",
      "\u001b[31mAttributeError\u001b[39m: module 'torch.nn' has no attribute 'tanh'"
     ]
    }
   ],
   "source": [
    "device = torch.accelerator.current_accelerator().type if torch.accelerator.is_available() else \"cpu\"\n",
    "print(f\"Using {device} device\")\n",
    "\n",
    "# Define model\n",
    "class NeuralNetwork(nn.Module):\n",
    "    def __init__(self):\n",
    "        super().__init__()\n",
    "        self.flatten = nn.Flatten()\n",
    "        self.linear_relu_stack = nn.Sequential(\n",
    "            nn.Linear(28*28, 512),\n",
    "            nn.ReLU(),\n",
    "            nn.Linear(512, 512),\n",
    "            nn.ReLU(),\n",
    "            nn.Linear(512, 10) # 10 tane sinif oldugu icin 10 yazildi neronlarin en son ulasacagi sayi\n",
    "        )\n",
    "\n",
    "    def forward(self, x):\n",
    "        x = self.flatten(x)\n",
    "        logits = self.linear_relu_stack(x)\n",
    "        return logits\n",
    "\n",
    "model = NeuralNetwork().to(device)\n",
    "print(model)"
   ]
  },
  {
   "cell_type": "code",
   "execution_count": 5,
   "id": "c5ebedf2",
   "metadata": {},
   "outputs": [],
   "source": [
    "loss_fn = nn.CrossEntropyLoss()\n",
    "optimizer = torch.optim.SGD(model.parameters(), lr=1e-3)"
   ]
  },
  {
   "cell_type": "code",
   "execution_count": 6,
   "id": "3e655718",
   "metadata": {},
   "outputs": [],
   "source": [
    "def train(dataloader, model, loss_fn, optimizer):\n",
    "    size = len(dataloader.dataset)\n",
    "    model.train()\n",
    "    for batch, (X, y) in enumerate(dataloader):\n",
    "        X, y = X.to(device), y.to(device)\n",
    "\n",
    "        # Compute prediction error\n",
    "        pred = model(X)\n",
    "        loss = loss_fn(pred, y)\n",
    "\n",
    "        # Backpropagation\n",
    "        loss.backward() # hata hesaplanmasi\n",
    "        optimizer.step() # hatayi optimize etme & parametreleri guncelleme\n",
    "        optimizer.zero_grad() # bir sonraki batch icin hata sifirlama\n",
    "\n",
    "        if batch % 100 == 0:\n",
    "            loss, current = loss.item(), (batch + 1) * len(X)\n",
    "            print(f\"loss: {loss:>7f}  [{current:>5d}/{size:>5d}]\")"
   ]
  },
  {
   "cell_type": "code",
   "execution_count": 7,
   "id": "9a908f9f",
   "metadata": {},
   "outputs": [],
   "source": [
    "def test(dataloader, model, loss_fn):\n",
    "    size = len(dataloader.dataset)\n",
    "    num_batches = len(dataloader)\n",
    "    model.eval()\n",
    "    test_loss, correct = 0, 0\n",
    "    with torch.no_grad():\n",
    "        for X, y in dataloader:\n",
    "            X, y = X.to(device), y.to(device)\n",
    "            pred = model(X)\n",
    "            test_loss += loss_fn(pred, y).item()\n",
    "            correct += (pred.argmax(1) == y).type(torch.float).sum().item() \n",
    "            #type(torch.float) bool degerleri float degere cevirir 1.0 ve 0.0 seklinde\n",
    "    test_loss /= num_batches \n",
    "    correct /= size \n",
    "    print(f\"Test Error: \\n Accuracy: {(100*correct):>0.1f}%, Avg loss: {test_loss:>8f} \\n\")"
   ]
  },
  {
   "cell_type": "code",
   "execution_count": null,
   "id": "27179792",
   "metadata": {},
   "outputs": [
    {
     "name": "stdout",
     "output_type": "stream",
     "text": [
      "Epoch 1\n",
      "-------------------------------\n",
      "loss: 2.301625  [   64/60000]\n",
      "loss: 2.287274  [ 6464/60000]\n",
      "loss: 2.270243  [12864/60000]\n",
      "loss: 2.274404  [19264/60000]\n",
      "loss: 2.258371  [25664/60000]\n",
      "loss: 2.233761  [32064/60000]\n",
      "loss: 2.243473  [38464/60000]\n",
      "loss: 2.209043  [44864/60000]\n",
      "loss: 2.214829  [51264/60000]\n",
      "loss: 2.189685  [57664/60000]\n",
      "Test Error: \n",
      " Accuracy: 47.7%, Avg loss: 2.175713 \n",
      "\n",
      "Epoch 2\n",
      "-------------------------------\n",
      "loss: 2.183765  [   64/60000]\n",
      "loss: 2.167279  [ 6464/60000]\n",
      "loss: 2.114600  [12864/60000]\n",
      "loss: 2.139485  [19264/60000]\n",
      "loss: 2.088328  [25664/60000]\n",
      "loss: 2.035053  [32064/60000]\n",
      "loss: 2.070297  [38464/60000]\n",
      "loss: 1.990876  [44864/60000]\n",
      "loss: 2.004938  [51264/60000]\n",
      "loss: 1.937235  [57664/60000]\n",
      "Test Error: \n",
      " Accuracy: 50.0%, Avg loss: 1.931347 \n",
      "\n",
      "Epoch 3\n",
      "-------------------------------\n",
      "loss: 1.956047  [   64/60000]\n",
      "loss: 1.924425  [ 6464/60000]\n",
      "loss: 1.814974  [12864/60000]\n",
      "loss: 1.866010  [19264/60000]\n",
      "loss: 1.751932  [25664/60000]\n",
      "loss: 1.698178  [32064/60000]\n",
      "loss: 1.737348  [38464/60000]\n",
      "loss: 1.626993  [44864/60000]\n",
      "loss: 1.658412  [51264/60000]\n",
      "loss: 1.555497  [57664/60000]\n",
      "Test Error: \n",
      " Accuracy: 59.3%, Avg loss: 1.569895 \n",
      "\n",
      "Epoch 4\n",
      "-------------------------------\n",
      "loss: 1.627147  [   64/60000]\n",
      "loss: 1.591655  [ 6464/60000]\n",
      "loss: 1.445590  [12864/60000]\n",
      "loss: 1.523785  [19264/60000]\n",
      "loss: 1.402749  [25664/60000]\n",
      "loss: 1.389088  [32064/60000]\n",
      "loss: 1.418954  [38464/60000]\n",
      "loss: 1.329745  [44864/60000]\n",
      "loss: 1.368767  [51264/60000]\n",
      "loss: 1.267947  [57664/60000]\n",
      "Test Error: \n",
      " Accuracy: 62.6%, Avg loss: 1.294285 \n",
      "\n",
      "Epoch 5\n",
      "-------------------------------\n",
      "loss: 1.367834  [   64/60000]\n",
      "loss: 1.348170  [ 6464/60000]\n",
      "loss: 1.184915  [12864/60000]\n",
      "loss: 1.291846  [19264/60000]\n",
      "loss: 1.169494  [25664/60000]\n",
      "loss: 1.185020  [32064/60000]\n",
      "loss: 1.219613  [38464/60000]\n",
      "loss: 1.142176  [44864/60000]\n",
      "loss: 1.184156  [51264/60000]\n",
      "loss: 1.098135  [57664/60000]\n",
      "Test Error: \n",
      " Accuracy: 64.5%, Avg loss: 1.120253 \n",
      "\n",
      "Done!\n"
     ]
    }
   ],
   "source": [
    "epochs = 5\n",
    "for t in range(epochs):\n",
    "    print(f\"Epoch {t+1}\\n-------------------------------\")\n",
    "    train(train_dataloader, model, loss_fn, optimizer)\n",
    "    test(test_dataloader, model, loss_fn)\n",
    "print(\"Done!\")"
   ]
  },
  {
   "cell_type": "code",
   "execution_count": 9,
   "id": "dc250fe3",
   "metadata": {},
   "outputs": [
    {
     "name": "stdout",
     "output_type": "stream",
     "text": [
      "Saved PyTorch Model State to model.pth\n"
     ]
    }
   ],
   "source": [
    "torch.save(model.state_dict(), \"model.pth\")\n",
    "print(\"Saved PyTorch Model State to model.pth\")"
   ]
  },
  {
   "cell_type": "code",
   "execution_count": 10,
   "id": "4bded48e",
   "metadata": {},
   "outputs": [
    {
     "data": {
      "text/plain": [
       "<All keys matched successfully>"
      ]
     },
     "execution_count": 10,
     "metadata": {},
     "output_type": "execute_result"
    }
   ],
   "source": [
    "model = NeuralNetwork().to(device)\n",
    "model.load_state_dict(torch.load(\"model.pth\", weights_only=True))"
   ]
  },
  {
   "cell_type": "code",
   "execution_count": null,
   "id": "9a9d1bec",
   "metadata": {},
   "outputs": [
    {
     "name": "stdout",
     "output_type": "stream",
     "text": [
      "Predicted: \"Ankle boot\", Actual: \"Ankle boot\"\n"
     ]
    }
   ],
   "source": [
    "classes = [\n",
    "    \"T-shirt/top\",\n",
    "    \"Trouser\",\n",
    "    \"Pullover\",\n",
    "    \"Dress\",\n",
    "    \"Coat\",\n",
    "    \"Sandal\",\n",
    "    \"Shirt\",\n",
    "    \"Sneaker\",\n",
    "    \"Bag\",\n",
    "    \"Ankle boot\",\n",
    "]\n",
    "\n",
    "model.eval()\n",
    "x, y = test_data[0][0], test_data[0][1]\n",
    "with torch.no_grad():\n",
    "    x = x.to(device)\n",
    "    pred = model(x)\n",
    "    predicted, actual = classes[pred[0].argmax(0)], classes[y]\n",
    "    print(f'Predicted: \"{predicted}\", Actual: \"{actual}\"')"
   ]
  }
 ],
 "metadata": {
  "kernelspec": {
   "display_name": "venv",
   "language": "python",
   "name": "python3"
  },
  "language_info": {
   "codemirror_mode": {
    "name": "ipython",
    "version": 3
   },
   "file_extension": ".py",
   "mimetype": "text/x-python",
   "name": "python",
   "nbconvert_exporter": "python",
   "pygments_lexer": "ipython3",
   "version": "3.11.7"
  }
 },
 "nbformat": 4,
 "nbformat_minor": 5
}
